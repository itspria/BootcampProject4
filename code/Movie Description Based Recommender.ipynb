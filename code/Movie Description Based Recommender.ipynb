{
 "cells": [
  {
   "cell_type": "code",
   "execution_count": 1,
   "id": "4e5ea46a",
   "metadata": {},
   "outputs": [],
   "source": [
    "%matplotlib inline\n",
    "import pandas as pd\n",
    "import numpy as np\n",
    "import matplotlib.pyplot as plt\n",
    "import seaborn as sns\n",
    "from scipy import stats\n",
    "from ast import literal_eval\n",
    "from sklearn.feature_extraction.text import TfidfVectorizer, CountVectorizer\n",
    "from sklearn.metrics.pairwise import linear_kernel, cosine_similarity\n",
    "from nltk.stem.snowball import SnowballStemmer\n",
    "from nltk.stem.wordnet import WordNetLemmatizer\n",
    "from nltk.corpus import wordnet\n",
    "\n",
    "\n",
    "import warnings; warnings.simplefilter('ignore')"
   ]
  },
  {
   "cell_type": "code",
   "execution_count": 30,
   "id": "c402ff69",
   "metadata": {},
   "outputs": [
    {
     "data": {
      "text/html": [
       "<div>\n",
       "<style scoped>\n",
       "    .dataframe tbody tr th:only-of-type {\n",
       "        vertical-align: middle;\n",
       "    }\n",
       "\n",
       "    .dataframe tbody tr th {\n",
       "        vertical-align: top;\n",
       "    }\n",
       "\n",
       "    .dataframe thead th {\n",
       "        text-align: right;\n",
       "    }\n",
       "</style>\n",
       "<table border=\"1\" class=\"dataframe\">\n",
       "  <thead>\n",
       "    <tr style=\"text-align: right;\">\n",
       "      <th></th>\n",
       "      <th>imdb_title_id</th>\n",
       "      <th>title</th>\n",
       "      <th>year</th>\n",
       "      <th>genre</th>\n",
       "      <th>duration</th>\n",
       "      <th>country</th>\n",
       "      <th>language</th>\n",
       "      <th>director</th>\n",
       "      <th>writer</th>\n",
       "      <th>production_company</th>\n",
       "      <th>actors</th>\n",
       "      <th>description</th>\n",
       "      <th>avg_vote</th>\n",
       "      <th>votes</th>\n",
       "      <th>reviews_from_users</th>\n",
       "      <th>reviews_from_critics</th>\n",
       "      <th>month_published</th>\n",
       "      <th>genre_2</th>\n",
       "      <th>genre_3</th>\n",
       "    </tr>\n",
       "  </thead>\n",
       "  <tbody>\n",
       "    <tr>\n",
       "      <th>0</th>\n",
       "      <td>tt0000009</td>\n",
       "      <td>Miss Jerry</td>\n",
       "      <td>1894</td>\n",
       "      <td>Romance</td>\n",
       "      <td>45</td>\n",
       "      <td>USA</td>\n",
       "      <td>None</td>\n",
       "      <td>Alexander Black</td>\n",
       "      <td>Alexander Black</td>\n",
       "      <td>Alexander Black Photoplays</td>\n",
       "      <td>Blanche Bayliss, William Courtenay, Chauncey D...</td>\n",
       "      <td>The adventures of a female reporter in the 1890s.</td>\n",
       "      <td>5.9</td>\n",
       "      <td>154</td>\n",
       "      <td>1.0</td>\n",
       "      <td>2.0</td>\n",
       "      <td>10</td>\n",
       "      <td>NaN</td>\n",
       "      <td>NaN</td>\n",
       "    </tr>\n",
       "    <tr>\n",
       "      <th>1</th>\n",
       "      <td>tt0002101</td>\n",
       "      <td>Cleopatra</td>\n",
       "      <td>1912</td>\n",
       "      <td>Drama</td>\n",
       "      <td>100</td>\n",
       "      <td>USA</td>\n",
       "      <td>English</td>\n",
       "      <td>Charles L. Gaskill</td>\n",
       "      <td>Victorien Sardou</td>\n",
       "      <td>Helen Gardner Picture Players</td>\n",
       "      <td>Helen Gardner, Pearl Sindelar, Miss Fielding, ...</td>\n",
       "      <td>The fabled queen of Egypt's affair with Roman ...</td>\n",
       "      <td>5.2</td>\n",
       "      <td>446</td>\n",
       "      <td>25.0</td>\n",
       "      <td>3.0</td>\n",
       "      <td>11</td>\n",
       "      <td>History</td>\n",
       "      <td>NaN</td>\n",
       "    </tr>\n",
       "    <tr>\n",
       "      <th>2</th>\n",
       "      <td>tt0002199</td>\n",
       "      <td>From the Manger to the Cross; or, Jesus of Naz...</td>\n",
       "      <td>1912</td>\n",
       "      <td>Biography</td>\n",
       "      <td>60</td>\n",
       "      <td>USA</td>\n",
       "      <td>English</td>\n",
       "      <td>Sidney Olcott</td>\n",
       "      <td>Gene Gauntier</td>\n",
       "      <td>Kalem Company</td>\n",
       "      <td>R. Henderson Bland, Percy Dyer, Gene Gauntier,...</td>\n",
       "      <td>An account of the life of Jesus Christ, based ...</td>\n",
       "      <td>5.7</td>\n",
       "      <td>484</td>\n",
       "      <td>13.0</td>\n",
       "      <td>5.0</td>\n",
       "      <td>1</td>\n",
       "      <td>Drama</td>\n",
       "      <td>NaN</td>\n",
       "    </tr>\n",
       "    <tr>\n",
       "      <th>3</th>\n",
       "      <td>tt0003643</td>\n",
       "      <td>The Avenging Conscience: or 'Thou Shalt Not Kill'</td>\n",
       "      <td>1914</td>\n",
       "      <td>Crime</td>\n",
       "      <td>78</td>\n",
       "      <td>USA</td>\n",
       "      <td>English</td>\n",
       "      <td>D.W. Griffith</td>\n",
       "      <td>Edgar Allan Poe</td>\n",
       "      <td>Majestic Motion Picture Company</td>\n",
       "      <td>Henry B. Walthall, Spottiswoode Aitken, Blanch...</td>\n",
       "      <td>Prevented from dating his sweetheart by his un...</td>\n",
       "      <td>6.4</td>\n",
       "      <td>1105</td>\n",
       "      <td>14.0</td>\n",
       "      <td>11.0</td>\n",
       "      <td>8</td>\n",
       "      <td>Drama</td>\n",
       "      <td>Horror</td>\n",
       "    </tr>\n",
       "    <tr>\n",
       "      <th>4</th>\n",
       "      <td>tt0003657</td>\n",
       "      <td>The Bargain</td>\n",
       "      <td>1914</td>\n",
       "      <td>Western</td>\n",
       "      <td>70</td>\n",
       "      <td>USA</td>\n",
       "      <td>English</td>\n",
       "      <td>Reginald Barker</td>\n",
       "      <td>William H. Clifford</td>\n",
       "      <td>New York Motion Picture</td>\n",
       "      <td>William S. Hart, J. Frank Burke, Clara William...</td>\n",
       "      <td>After the bandit Jim Stokes robs the stage he ...</td>\n",
       "      <td>6.5</td>\n",
       "      <td>144</td>\n",
       "      <td>8.0</td>\n",
       "      <td>3.0</td>\n",
       "      <td>12</td>\n",
       "      <td>NaN</td>\n",
       "      <td>NaN</td>\n",
       "    </tr>\n",
       "  </tbody>\n",
       "</table>\n",
       "</div>"
      ],
      "text/plain": [
       "  imdb_title_id                                              title  year  \\\n",
       "0     tt0000009                                         Miss Jerry  1894   \n",
       "1     tt0002101                                          Cleopatra  1912   \n",
       "2     tt0002199  From the Manger to the Cross; or, Jesus of Naz...  1912   \n",
       "3     tt0003643  The Avenging Conscience: or 'Thou Shalt Not Kill'  1914   \n",
       "4     tt0003657                                        The Bargain  1914   \n",
       "\n",
       "       genre  duration country language            director  \\\n",
       "0    Romance        45     USA     None     Alexander Black   \n",
       "1      Drama       100     USA  English  Charles L. Gaskill   \n",
       "2  Biography        60     USA  English       Sidney Olcott   \n",
       "3      Crime        78     USA  English       D.W. Griffith   \n",
       "4    Western        70     USA  English     Reginald Barker   \n",
       "\n",
       "                writer               production_company  \\\n",
       "0      Alexander Black       Alexander Black Photoplays   \n",
       "1     Victorien Sardou    Helen Gardner Picture Players   \n",
       "2        Gene Gauntier                    Kalem Company   \n",
       "3      Edgar Allan Poe  Majestic Motion Picture Company   \n",
       "4  William H. Clifford          New York Motion Picture   \n",
       "\n",
       "                                              actors  \\\n",
       "0  Blanche Bayliss, William Courtenay, Chauncey D...   \n",
       "1  Helen Gardner, Pearl Sindelar, Miss Fielding, ...   \n",
       "2  R. Henderson Bland, Percy Dyer, Gene Gauntier,...   \n",
       "3  Henry B. Walthall, Spottiswoode Aitken, Blanch...   \n",
       "4  William S. Hart, J. Frank Burke, Clara William...   \n",
       "\n",
       "                                         description  avg_vote  votes  \\\n",
       "0  The adventures of a female reporter in the 1890s.       5.9    154   \n",
       "1  The fabled queen of Egypt's affair with Roman ...       5.2    446   \n",
       "2  An account of the life of Jesus Christ, based ...       5.7    484   \n",
       "3  Prevented from dating his sweetheart by his un...       6.4   1105   \n",
       "4  After the bandit Jim Stokes robs the stage he ...       6.5    144   \n",
       "\n",
       "   reviews_from_users  reviews_from_critics  month_published   genre_2  \\\n",
       "0                 1.0                   2.0               10       NaN   \n",
       "1                25.0                   3.0               11   History   \n",
       "2                13.0                   5.0                1     Drama   \n",
       "3                14.0                  11.0                8     Drama   \n",
       "4                 8.0                   3.0               12       NaN   \n",
       "\n",
       "   genre_3  \n",
       "0      NaN  \n",
       "1      NaN  \n",
       "2      NaN  \n",
       "3   Horror  \n",
       "4      NaN  "
      ]
     },
     "execution_count": 30,
     "metadata": {},
     "output_type": "execute_result"
    }
   ],
   "source": [
    "# Load in csv file of Movies\n",
    "csv_path = \"cleaned data/movies.csv\"\n",
    "df = pd.read_csv(csv_path)\n",
    "df.head()"
   ]
  },
  {
   "cell_type": "code",
   "execution_count": 8,
   "id": "f5dd88d7",
   "metadata": {},
   "outputs": [],
   "source": [
    "#Fill in any blank descriptions\n",
    "df['description'] = df['description'].fillna('')"
   ]
  },
  {
   "cell_type": "code",
   "execution_count": 9,
   "id": "7590b144",
   "metadata": {},
   "outputs": [],
   "source": [
    "#create the matrix \n",
    "tf = TfidfVectorizer(analyzer='word',ngram_range=(1, 2),min_df=0, stop_words='english')\n",
    "tfidf_matrix = tf.fit_transform(df['description'])"
   ]
  },
  {
   "cell_type": "code",
   "execution_count": 45,
   "id": "4fadea5f",
   "metadata": {},
   "outputs": [
    {
     "data": {
      "text/plain": [
       "(25083, 295949)"
      ]
     },
     "execution_count": 45,
     "metadata": {},
     "output_type": "execute_result"
    }
   ],
   "source": [
    "#display the shape of the matrix\n",
    "tfidf_matrix.shape"
   ]
  },
  {
   "cell_type": "code",
   "execution_count": 11,
   "id": "293d9f17",
   "metadata": {},
   "outputs": [],
   "source": [
    "#calaculate the  Cosine Similarity Score\n",
    "cosine_sim = linear_kernel(tfidf_matrix, tfidf_matrix)"
   ]
  },
  {
   "cell_type": "code",
   "execution_count": 12,
   "id": "7fa98525",
   "metadata": {},
   "outputs": [
    {
     "data": {
      "text/plain": [
       "array([1., 0., 0., ..., 0., 0., 0.])"
      ]
     },
     "execution_count": 12,
     "metadata": {},
     "output_type": "execute_result"
    }
   ],
   "source": [
    "#display the  Cosine Similarity Score\n",
    "cosine_sim[0]\n"
   ]
  },
  {
   "cell_type": "code",
   "execution_count": 13,
   "id": "902dd43c",
   "metadata": {},
   "outputs": [],
   "source": [
    "#reset index of csv and create lists of movie titles \n",
    "md = df.reset_index()\n",
    "titles = df['title']\n",
    "indices = pd.Series(df.index, index=df['title'])"
   ]
  },
  {
   "cell_type": "code",
   "execution_count": 14,
   "id": "f17666b5",
   "metadata": {},
   "outputs": [],
   "source": [
    "#define what steps will be taken to conpare descriptions and give recommendations\n",
    "def get_recommendations(title):\n",
    "    idx = indices[title]\n",
    "    sim_scores = list(enumerate(cosine_sim[idx]))\n",
    "    sim_scores = sorted(sim_scores, key=lambda x: x[1], reverse=True)\n",
    "    sim_scores = sim_scores[1:31]\n",
    "    movie_indices = [i[0] for i in sim_scores]\n",
    "    return titles.iloc[movie_indices]"
   ]
  },
  {
   "cell_type": "code",
   "execution_count": 46,
   "id": "2ab343ce",
   "metadata": {},
   "outputs": [
    {
     "name": "stdout",
     "output_type": "stream",
     "text": [
      "Enter a move you like: The Avengers\n"
     ]
    }
   ],
   "source": [
    "#take in user input of a movie they like\n",
    "\n",
    "movie_name = input(\"Enter a move you like: \")"
   ]
  },
  {
   "cell_type": "code",
   "execution_count": 47,
   "id": "1294277c",
   "metadata": {},
   "outputs": [
    {
     "data": {
      "text/plain": [
       "21407           Avengers: Age of Ultron\n",
       "23644                   Grandma's House\n",
       "21704                       Wastelander\n",
       "11000                        Alien Seed\n",
       "18298                   Red Dirt Rising\n",
       "21382      Dark Skies - Oscure presenze\n",
       "20186    Evil Bong 3: The Wrath of Bong\n",
       "17786     L'ultimo dominatore dell'aria\n",
       "13493                     Lost in Space\n",
       "9886                  Twice Upon a Time\n",
       "Name: title, dtype: object"
      ]
     },
     "execution_count": 47,
     "metadata": {},
     "output_type": "execute_result"
    }
   ],
   "source": [
    "# Maybe add an else if statment for movies not in database\n",
    "get_recommendations(movie_name).head(10)"
   ]
  },
  {
   "cell_type": "code",
   "execution_count": null,
   "id": "d5f7511a",
   "metadata": {},
   "outputs": [],
   "source": []
  },
  {
   "cell_type": "code",
   "execution_count": null,
   "id": "55da46a6",
   "metadata": {},
   "outputs": [],
   "source": []
  }
 ],
 "metadata": {
  "kernelspec": {
   "display_name": "Python 3",
   "language": "python",
   "name": "python3"
  },
  "language_info": {
   "codemirror_mode": {
    "name": "ipython",
    "version": 3
   },
   "file_extension": ".py",
   "mimetype": "text/x-python",
   "name": "python",
   "nbconvert_exporter": "python",
   "pygments_lexer": "ipython3",
   "version": "3.8.10"
  }
 },
 "nbformat": 4,
 "nbformat_minor": 5
}
