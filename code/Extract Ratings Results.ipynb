{
 "cells": [
  {
   "cell_type": "code",
   "execution_count": 1,
   "id": "83a825e0",
   "metadata": {},
   "outputs": [],
   "source": [
    "#import dependencis\n",
    "import pandas as pd"
   ]
  },
  {
   "cell_type": "code",
   "execution_count": 2,
   "id": "362e4457",
   "metadata": {},
   "outputs": [
    {
     "data": {
      "text/html": [
       "<div>\n",
       "<style scoped>\n",
       "    .dataframe tbody tr th:only-of-type {\n",
       "        vertical-align: middle;\n",
       "    }\n",
       "\n",
       "    .dataframe tbody tr th {\n",
       "        vertical-align: top;\n",
       "    }\n",
       "\n",
       "    .dataframe thead th {\n",
       "        text-align: right;\n",
       "    }\n",
       "</style>\n",
       "<table border=\"1\" class=\"dataframe\">\n",
       "  <thead>\n",
       "    <tr style=\"text-align: right;\">\n",
       "      <th></th>\n",
       "      <th>movieId</th>\n",
       "      <th>title</th>\n",
       "      <th>genres</th>\n",
       "      <th>user</th>\n",
       "      <th>GAvg</th>\n",
       "      <th>sur1</th>\n",
       "      <th>sur2</th>\n",
       "      <th>sur3</th>\n",
       "      <th>sur4</th>\n",
       "      <th>sur5</th>\n",
       "      <th>smr1</th>\n",
       "      <th>smr2</th>\n",
       "      <th>smr3</th>\n",
       "      <th>smr4</th>\n",
       "      <th>smr5</th>\n",
       "      <th>UAvg</th>\n",
       "      <th>MAvg</th>\n",
       "      <th>rating</th>\n",
       "      <th>mf_svd</th>\n",
       "      <th>predicted rating</th>\n",
       "    </tr>\n",
       "  </thead>\n",
       "  <tbody>\n",
       "    <tr>\n",
       "      <th>0</th>\n",
       "      <td>1</td>\n",
       "      <td>Toy Story (1995)</td>\n",
       "      <td>Adventure|Animation|Children|Comedy|Fantasy</td>\n",
       "      <td>514</td>\n",
       "      <td>3.427881</td>\n",
       "      <td>4.0</td>\n",
       "      <td>4.0</td>\n",
       "      <td>4.0</td>\n",
       "      <td>4.0</td>\n",
       "      <td>4.0</td>\n",
       "      <td>4.0</td>\n",
       "      <td>4.0</td>\n",
       "      <td>4.0</td>\n",
       "      <td>2.5</td>\n",
       "      <td>5.0</td>\n",
       "      <td>3.311083</td>\n",
       "      <td>3.769231</td>\n",
       "      <td>4.0</td>\n",
       "      <td>3.425865</td>\n",
       "      <td>3.727467</td>\n",
       "    </tr>\n",
       "    <tr>\n",
       "      <th>1</th>\n",
       "      <td>1</td>\n",
       "      <td>Toy Story (1995)</td>\n",
       "      <td>Adventure|Animation|Children|Comedy|Fantasy</td>\n",
       "      <td>517</td>\n",
       "      <td>3.427881</td>\n",
       "      <td>4.0</td>\n",
       "      <td>4.0</td>\n",
       "      <td>4.0</td>\n",
       "      <td>2.5</td>\n",
       "      <td>4.0</td>\n",
       "      <td>3.5</td>\n",
       "      <td>2.0</td>\n",
       "      <td>3.0</td>\n",
       "      <td>3.5</td>\n",
       "      <td>5.0</td>\n",
       "      <td>2.386250</td>\n",
       "      <td>3.769231</td>\n",
       "      <td>4.0</td>\n",
       "      <td>3.229036</td>\n",
       "      <td>3.052417</td>\n",
       "    </tr>\n",
       "    <tr>\n",
       "      <th>2</th>\n",
       "      <td>1</td>\n",
       "      <td>Toy Story (1995)</td>\n",
       "      <td>Adventure|Animation|Children|Comedy|Fantasy</td>\n",
       "      <td>522</td>\n",
       "      <td>3.427881</td>\n",
       "      <td>5.0</td>\n",
       "      <td>4.0</td>\n",
       "      <td>4.0</td>\n",
       "      <td>4.0</td>\n",
       "      <td>3.0</td>\n",
       "      <td>3.5</td>\n",
       "      <td>4.0</td>\n",
       "      <td>5.0</td>\n",
       "      <td>5.0</td>\n",
       "      <td>5.0</td>\n",
       "      <td>3.830000</td>\n",
       "      <td>3.769231</td>\n",
       "      <td>3.0</td>\n",
       "      <td>3.026007</td>\n",
       "      <td>4.283056</td>\n",
       "    </tr>\n",
       "    <tr>\n",
       "      <th>3</th>\n",
       "      <td>1</td>\n",
       "      <td>Toy Story (1995)</td>\n",
       "      <td>Adventure|Animation|Children|Comedy|Fantasy</td>\n",
       "      <td>524</td>\n",
       "      <td>3.427881</td>\n",
       "      <td>5.0</td>\n",
       "      <td>4.0</td>\n",
       "      <td>5.0</td>\n",
       "      <td>3.0</td>\n",
       "      <td>4.0</td>\n",
       "      <td>3.0</td>\n",
       "      <td>3.0</td>\n",
       "      <td>3.0</td>\n",
       "      <td>5.0</td>\n",
       "      <td>5.0</td>\n",
       "      <td>3.458015</td>\n",
       "      <td>3.769231</td>\n",
       "      <td>4.0</td>\n",
       "      <td>3.004834</td>\n",
       "      <td>3.441464</td>\n",
       "    </tr>\n",
       "    <tr>\n",
       "      <th>4</th>\n",
       "      <td>1</td>\n",
       "      <td>Toy Story (1995)</td>\n",
       "      <td>Adventure|Animation|Children|Comedy|Fantasy</td>\n",
       "      <td>525</td>\n",
       "      <td>3.427881</td>\n",
       "      <td>4.0</td>\n",
       "      <td>3.0</td>\n",
       "      <td>5.0</td>\n",
       "      <td>2.5</td>\n",
       "      <td>4.0</td>\n",
       "      <td>4.0</td>\n",
       "      <td>4.0</td>\n",
       "      <td>4.0</td>\n",
       "      <td>4.5</td>\n",
       "      <td>4.0</td>\n",
       "      <td>3.542000</td>\n",
       "      <td>3.769231</td>\n",
       "      <td>4.0</td>\n",
       "      <td>2.366412</td>\n",
       "      <td>3.921979</td>\n",
       "    </tr>\n",
       "  </tbody>\n",
       "</table>\n",
       "</div>"
      ],
      "text/plain": [
       "   movieId             title                                       genres  \\\n",
       "0        1  Toy Story (1995)  Adventure|Animation|Children|Comedy|Fantasy   \n",
       "1        1  Toy Story (1995)  Adventure|Animation|Children|Comedy|Fantasy   \n",
       "2        1  Toy Story (1995)  Adventure|Animation|Children|Comedy|Fantasy   \n",
       "3        1  Toy Story (1995)  Adventure|Animation|Children|Comedy|Fantasy   \n",
       "4        1  Toy Story (1995)  Adventure|Animation|Children|Comedy|Fantasy   \n",
       "\n",
       "   user      GAvg  sur1  sur2  sur3  sur4  sur5  smr1  smr2  smr3  smr4  smr5  \\\n",
       "0   514  3.427881   4.0   4.0   4.0   4.0   4.0   4.0   4.0   4.0   2.5   5.0   \n",
       "1   517  3.427881   4.0   4.0   4.0   2.5   4.0   3.5   2.0   3.0   3.5   5.0   \n",
       "2   522  3.427881   5.0   4.0   4.0   4.0   3.0   3.5   4.0   5.0   5.0   5.0   \n",
       "3   524  3.427881   5.0   4.0   5.0   3.0   4.0   3.0   3.0   3.0   5.0   5.0   \n",
       "4   525  3.427881   4.0   3.0   5.0   2.5   4.0   4.0   4.0   4.0   4.5   4.0   \n",
       "\n",
       "       UAvg      MAvg  rating    mf_svd  predicted rating  \n",
       "0  3.311083  3.769231     4.0  3.425865          3.727467  \n",
       "1  2.386250  3.769231     4.0  3.229036          3.052417  \n",
       "2  3.830000  3.769231     3.0  3.026007          4.283056  \n",
       "3  3.458015  3.769231     4.0  3.004834          3.441464  \n",
       "4  3.542000  3.769231     4.0  2.366412          3.921979  "
      ]
     },
     "execution_count": 2,
     "metadata": {},
     "output_type": "execute_result"
    }
   ],
   "source": [
    "complete_df = pd.read_csv(\"../cleaned data/complete_df_with_predictions.csv\")\n",
    "complete_df.head()"
   ]
  },
  {
   "cell_type": "code",
   "execution_count": 3,
   "id": "131d8c15",
   "metadata": {},
   "outputs": [
    {
     "data": {
      "text/plain": [
       "0                                  Toy Story (1995)\n",
       "1                                  Toy Story (1995)\n",
       "2                                  Toy Story (1995)\n",
       "3                                  Toy Story (1995)\n",
       "4                                  Toy Story (1995)\n",
       "                            ...                    \n",
       "100831    Black Butler: Book of the Atlantic (2017)\n",
       "100832                 No Game No Life: Zero (2017)\n",
       "100833                                 Flint (2017)\n",
       "100834          Bungo Stray Dogs: Dead Apple (2018)\n",
       "100835          Andrew Dice Clay: Dice Rules (1991)\n",
       "Name: title, Length: 100836, dtype: object"
      ]
     },
     "execution_count": 3,
     "metadata": {},
     "output_type": "execute_result"
    }
   ],
   "source": [
    "#what you can pass as movies drop down\n",
    "movies=complete_df['title']\n",
    "movies"
   ]
  },
  {
   "cell_type": "code",
   "execution_count": 4,
   "id": "5c1b699d",
   "metadata": {},
   "outputs": [
    {
     "data": {
      "text/plain": [
       "0         514\n",
       "1         517\n",
       "2         522\n",
       "3         524\n",
       "4         525\n",
       "         ... \n",
       "100831    184\n",
       "100832    184\n",
       "100833    184\n",
       "100834    184\n",
       "100835    331\n",
       "Name: user, Length: 100836, dtype: int64"
      ]
     },
     "execution_count": 4,
     "metadata": {},
     "output_type": "execute_result"
    }
   ],
   "source": [
    "#what you can pass as user drop down\n",
    "user=complete_df['user']\n",
    "user"
   ]
  },
  {
   "cell_type": "code",
   "execution_count": 5,
   "id": "533008ff",
   "metadata": {},
   "outputs": [],
   "source": [
    "#get movie rating prediction by the name of the movie\n",
    "def get_rating_by_name(name):\n",
    "    #based on all the users in the dataframe and their predictions what is the average rating the movie will get\n",
    "    movie_rating=round((complete_df.loc[complete_df['title']==name,['predicted rating']].values).mean(),2)\n",
    "    \n",
    "    #from data already available what is the average of the movie\n",
    "    movie_gavg=round((complete_df.loc[complete_df['title']==name,['MAvg']].values).mean(),2)\n",
    "    \n",
    "    percdiff = round(((movie_rating-movie_gavg)/movie_gavg*100),2)\n",
    "    \n",
    "    summary = {'Predicted Rating': movie_rating, 'Actual Rating': movie_gavg ,\"Percentage Difference%\":percdiff}\n",
    "    pd.DataFrame.from_dict(summary, orient='index')\n",
    "        \n",
    "    return summary"
   ]
  },
  {
   "cell_type": "code",
   "execution_count": 6,
   "id": "14766943",
   "metadata": {},
   "outputs": [
    {
     "name": "stdout",
     "output_type": "stream",
     "text": [
      "What movie rating do you want to predict?Toy Story (1995)\n"
     ]
    },
    {
     "data": {
      "text/plain": [
       "{'Predicted Rating': 3.93,\n",
       " 'Actual Rating': 3.92,\n",
       " 'Percentage Difference%': 0.26}"
      ]
     },
     "execution_count": 6,
     "metadata": {},
     "output_type": "execute_result"
    }
   ],
   "source": [
    "#this is where to get user input (possibly in a drop down)\n",
    "name = input(\"What movie rating do you want to predict?\")\n",
    "get_rating_by_name(name)"
   ]
  },
  {
   "cell_type": "code",
   "execution_count": 7,
   "id": "04d51500",
   "metadata": {},
   "outputs": [],
   "source": [
    "#get movie rating prediction by the userid\n",
    "def get_rating_by_user(userid):\n",
    "    \n",
    "    #based on all the users in the dataframe and their predictions what is the average rating a user gives\n",
    "    user_rating=round((complete_df.loc[complete_df['user']==userid,['predicted rating']].values).mean(),2)\n",
    "    \n",
    "    #from data already available what is the average of the movie\n",
    "    user_uavg=round((complete_df.loc[complete_df['user']==userid,['UAvg']].values).mean(),2)\n",
    "    \n",
    "    percdiff = round(((user_rating-user_uavg)/user_uavg*100),2)\n",
    "    \n",
    "    summary = {'Predicted Rating': user_rating, 'Actual Rating': user_uavg ,\"Percentage Difference%\":percdiff}\n",
    "    pd.DataFrame.from_dict(summary, orient='index')\n",
    "        \n",
    "    return summary\n"
   ]
  },
  {
   "cell_type": "code",
   "execution_count": 8,
   "id": "4b7cac83",
   "metadata": {},
   "outputs": [
    {
     "name": "stdout",
     "output_type": "stream",
     "text": [
      "What is the user ID? 514\n"
     ]
    },
    {
     "data": {
      "text/plain": [
       "{'Predicted Rating': 3.16,\n",
       " 'Actual Rating': 3.31,\n",
       " 'Percentage Difference%': -4.53}"
      ]
     },
     "execution_count": 8,
     "metadata": {},
     "output_type": "execute_result"
    }
   ],
   "source": [
    "#this is where to get user input (possibly in a drop down)\n",
    "userid = input(\"What is the user ID? \")\n",
    "get_rating_by_user(int(userid))"
   ]
  },
  {
   "cell_type": "code",
   "execution_count": 9,
   "id": "24c71cdc",
   "metadata": {},
   "outputs": [],
   "source": [
    "#get movie rating prediction by the userid & movie\n",
    "def get_rating_by_user_movie(userid,name):\n",
    "    \n",
    "    #based on users past ratings what is the prediction for a particular movie\n",
    "    pred_rating=round(complete_df.loc[(complete_df['user']==userid) & (complete_df['title']==name),['predicted rating']].values[0][0],2)\n",
    "    \n",
    "    #from data already available what is the average of the movie\n",
    "    user_rating=round(complete_df.loc[(complete_df['user']==userid) & (complete_df['title']==name),['rating']].values[0][0],2)\n",
    "  \n",
    "    percdiff = round(((pred_rating-user_rating)/user_rating*100),2)\n",
    "    \n",
    "    summary = {'Predicted Rating': pred_rating, 'Actual Rating': user_rating ,\"Percentage Difference%\":percdiff}\n",
    "    pd.DataFrame.from_dict(summary, orient='index')\n",
    "        \n",
    "    return summary\n"
   ]
  },
  {
   "cell_type": "code",
   "execution_count": 10,
   "id": "bfd456fe",
   "metadata": {},
   "outputs": [
    {
     "name": "stdout",
     "output_type": "stream",
     "text": [
      "What is the user ID? 514\n",
      "What movie rating do you want to predict?Toy Story (1995)\n"
     ]
    },
    {
     "data": {
      "text/plain": [
       "{'Predicted Rating': 3.73,\n",
       " 'Actual Rating': 4.0,\n",
       " 'Percentage Difference%': -6.75}"
      ]
     },
     "execution_count": 10,
     "metadata": {},
     "output_type": "execute_result"
    }
   ],
   "source": [
    "#this is where to get user input (possibly in a drop down)\n",
    "userid = input(\"What is the user ID? \")\n",
    "name = input(\"What movie rating do you want to predict?\")\n",
    "get_rating_by_user_movie(int(userid),name)"
   ]
  },
  {
   "cell_type": "code",
   "execution_count": null,
   "id": "07d9d252",
   "metadata": {},
   "outputs": [],
   "source": []
  }
 ],
 "metadata": {
  "kernelspec": {
   "display_name": "Python 3",
   "language": "python",
   "name": "python3"
  },
  "language_info": {
   "codemirror_mode": {
    "name": "ipython",
    "version": 3
   },
   "file_extension": ".py",
   "mimetype": "text/x-python",
   "name": "python",
   "nbconvert_exporter": "python",
   "pygments_lexer": "ipython3",
   "version": "3.8.8"
  }
 },
 "nbformat": 4,
 "nbformat_minor": 5
}
